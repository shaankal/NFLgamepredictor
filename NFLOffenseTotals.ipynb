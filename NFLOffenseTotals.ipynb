{
  "nbformat": 4,
  "nbformat_minor": 0,
  "metadata": {
    "colab": {
      "provenance": [],
      "toc_visible": true,
      "authorship_tag": "ABX9TyMXjHR6D7MVV8cMLoWijtZj",
      "include_colab_link": true
    },
    "kernelspec": {
      "name": "python3",
      "display_name": "Python 3"
    },
    "language_info": {
      "name": "python"
    }
  },
  "cells": [
    {
      "cell_type": "markdown",
      "metadata": {
        "id": "view-in-github",
        "colab_type": "text"
      },
      "source": [
        "<a href=\"https://colab.research.google.com/github/shaankal/NFLgamepredictor/blob/main/NFLOffenseTotals.ipynb\" target=\"_parent\"><img src=\"https://colab.research.google.com/assets/colab-badge.svg\" alt=\"Open In Colab\"/></a>"
      ]
    },
    {
      "cell_type": "markdown",
      "source": [
        "# Loading and Cleaning the Data"
      ],
      "metadata": {
        "id": "4FqptynTB3MA"
      }
    },
    {
      "cell_type": "code",
      "execution_count": null,
      "metadata": {
        "id": "ElmMYZKx6Nmi"
      },
      "outputs": [],
      "source": [
        "import pandas as pd\n",
        "\n",
        "offense_stats = pd.read_csv(\"/content/nfl_offense_ranked_teams_with_wins.csv\" , index_col = 0)\n",
        "\n",
        "offense_stats.head()"
      ]
    },
    {
      "cell_type": "code",
      "source": [
        "team_total = pd.read_csv(\"/content/nfl_offense_team_totals.csv\" ,  index_col = 0)\n",
        "\n",
        "team_total.head()"
      ],
      "metadata": {
        "colab": {
          "base_uri": "https://localhost:8080/",
          "height": 374
        },
        "id": "tb_U8KRfETna",
        "outputId": "9995bd73-75cb-4368-9575-ec83e03b45f0"
      },
      "execution_count": 33,
      "outputs": [
        {
          "output_type": "execute_result",
          "data": {
            "text/plain": [
              "                   rank  games  points_scored  total_yards  offensive_plays  \\\n",
              "team                                                                          \n",
              "Arizona Cardinals   100     42            910        14513             2984   \n",
              "Atlanta Falcons      57     42           1027        13669             2455   \n",
              "Baltimore Ravens     21     42           1138        14999             2485   \n",
              "Buffalo Bills        26     39           1132        16811             2590   \n",
              "Carolina Panthers   150     42            797        11688             2292   \n",
              "\n",
              "                   yards_per_play  turnovers_lost  fumbles_lost  1st_downs  \\\n",
              "team                                                                         \n",
              "Arizona Cardinals            34.0              33             7        906   \n",
              "Atlanta Falcons              39.3              61            30        850   \n",
              "Baltimore Ravens             43.0              49            14        847   \n",
              "Buffalo Bills                45.2              67            36        939   \n",
              "Carolina Panthers            35.4              53            21        589   \n",
              "\n",
              "                   passes_completed  ...  rushing_touchdowns  \\\n",
              "team                                 ...                       \n",
              "Arizona Cardinals              1161  ...                  38   \n",
              "Atlanta Falcons                 590  ...                  54   \n",
              "Baltimore Ravens                768  ...                  34   \n",
              "Buffalo Bills                  1034  ...                  22   \n",
              "Carolina Panthers               706  ...                  29   \n",
              "\n",
              "                   rushing_yards_per_attempt  rushing_1st_downs  penalties  \\\n",
              "team                                                                         \n",
              "Arizona Cardinals                       30.7                320        281   \n",
              "Atlanta Falcons                         34.3                378        186   \n",
              "Baltimore Ravens                        38.9                378        208   \n",
              "Buffalo Bills                           34.3                271        228   \n",
              "Carolina Panthers                       32.0                222        226   \n",
              "\n",
              "                   penalty_yards  1st_down_penalties  \\\n",
              "team                                                   \n",
              "Arizona Cardinals           2457                  57   \n",
              "Atlanta Falcons             1427                  99   \n",
              "Baltimore Ravens            1656                  64   \n",
              "Buffalo Bills               1518                  68   \n",
              "Carolina Panthers           2202                  60   \n",
              "\n",
              "                   percentage_scoring_drives  percentage_turnover_drives  \\\n",
              "team                                                                       \n",
              "Arizona Cardinals                      240.2                        46.5   \n",
              "Atlanta Falcons                        287.3                       105.1   \n",
              "Baltimore Ravens                       306.6                        75.3   \n",
              "Buffalo Bills                          325.1                       116.5   \n",
              "Carolina Panthers                      219.0                        66.6   \n",
              "\n",
              "                   expected_points  Week  \n",
              "team                                      \n",
              "Arizona Cardinals           116.34    42  \n",
              "Atlanta Falcons             305.32    42  \n",
              "Baltimore Ravens            316.03    42  \n",
              "Buffalo Bills               518.76    42  \n",
              "Carolina Panthers          -228.14    42  \n",
              "\n",
              "[5 rows x 28 columns]"
            ],
            "text/html": [
              "\n",
              "  <div id=\"df-f7563502-07cb-4999-8edd-e53fe4f6e354\" class=\"colab-df-container\">\n",
              "    <div>\n",
              "<style scoped>\n",
              "    .dataframe tbody tr th:only-of-type {\n",
              "        vertical-align: middle;\n",
              "    }\n",
              "\n",
              "    .dataframe tbody tr th {\n",
              "        vertical-align: top;\n",
              "    }\n",
              "\n",
              "    .dataframe thead th {\n",
              "        text-align: right;\n",
              "    }\n",
              "</style>\n",
              "<table border=\"1\" class=\"dataframe\">\n",
              "  <thead>\n",
              "    <tr style=\"text-align: right;\">\n",
              "      <th></th>\n",
              "      <th>rank</th>\n",
              "      <th>games</th>\n",
              "      <th>points_scored</th>\n",
              "      <th>total_yards</th>\n",
              "      <th>offensive_plays</th>\n",
              "      <th>yards_per_play</th>\n",
              "      <th>turnovers_lost</th>\n",
              "      <th>fumbles_lost</th>\n",
              "      <th>1st_downs</th>\n",
              "      <th>passes_completed</th>\n",
              "      <th>...</th>\n",
              "      <th>rushing_touchdowns</th>\n",
              "      <th>rushing_yards_per_attempt</th>\n",
              "      <th>rushing_1st_downs</th>\n",
              "      <th>penalties</th>\n",
              "      <th>penalty_yards</th>\n",
              "      <th>1st_down_penalties</th>\n",
              "      <th>percentage_scoring_drives</th>\n",
              "      <th>percentage_turnover_drives</th>\n",
              "      <th>expected_points</th>\n",
              "      <th>Week</th>\n",
              "    </tr>\n",
              "    <tr>\n",
              "      <th>team</th>\n",
              "      <th></th>\n",
              "      <th></th>\n",
              "      <th></th>\n",
              "      <th></th>\n",
              "      <th></th>\n",
              "      <th></th>\n",
              "      <th></th>\n",
              "      <th></th>\n",
              "      <th></th>\n",
              "      <th></th>\n",
              "      <th></th>\n",
              "      <th></th>\n",
              "      <th></th>\n",
              "      <th></th>\n",
              "      <th></th>\n",
              "      <th></th>\n",
              "      <th></th>\n",
              "      <th></th>\n",
              "      <th></th>\n",
              "      <th></th>\n",
              "      <th></th>\n",
              "    </tr>\n",
              "  </thead>\n",
              "  <tbody>\n",
              "    <tr>\n",
              "      <th>Arizona Cardinals</th>\n",
              "      <td>100</td>\n",
              "      <td>42</td>\n",
              "      <td>910</td>\n",
              "      <td>14513</td>\n",
              "      <td>2984</td>\n",
              "      <td>34.0</td>\n",
              "      <td>33</td>\n",
              "      <td>7</td>\n",
              "      <td>906</td>\n",
              "      <td>1161</td>\n",
              "      <td>...</td>\n",
              "      <td>38</td>\n",
              "      <td>30.7</td>\n",
              "      <td>320</td>\n",
              "      <td>281</td>\n",
              "      <td>2457</td>\n",
              "      <td>57</td>\n",
              "      <td>240.2</td>\n",
              "      <td>46.5</td>\n",
              "      <td>116.34</td>\n",
              "      <td>42</td>\n",
              "    </tr>\n",
              "    <tr>\n",
              "      <th>Atlanta Falcons</th>\n",
              "      <td>57</td>\n",
              "      <td>42</td>\n",
              "      <td>1027</td>\n",
              "      <td>13669</td>\n",
              "      <td>2455</td>\n",
              "      <td>39.3</td>\n",
              "      <td>61</td>\n",
              "      <td>30</td>\n",
              "      <td>850</td>\n",
              "      <td>590</td>\n",
              "      <td>...</td>\n",
              "      <td>54</td>\n",
              "      <td>34.3</td>\n",
              "      <td>378</td>\n",
              "      <td>186</td>\n",
              "      <td>1427</td>\n",
              "      <td>99</td>\n",
              "      <td>287.3</td>\n",
              "      <td>105.1</td>\n",
              "      <td>305.32</td>\n",
              "      <td>42</td>\n",
              "    </tr>\n",
              "    <tr>\n",
              "      <th>Baltimore Ravens</th>\n",
              "      <td>21</td>\n",
              "      <td>42</td>\n",
              "      <td>1138</td>\n",
              "      <td>14999</td>\n",
              "      <td>2485</td>\n",
              "      <td>43.0</td>\n",
              "      <td>49</td>\n",
              "      <td>14</td>\n",
              "      <td>847</td>\n",
              "      <td>768</td>\n",
              "      <td>...</td>\n",
              "      <td>34</td>\n",
              "      <td>38.9</td>\n",
              "      <td>378</td>\n",
              "      <td>208</td>\n",
              "      <td>1656</td>\n",
              "      <td>64</td>\n",
              "      <td>306.6</td>\n",
              "      <td>75.3</td>\n",
              "      <td>316.03</td>\n",
              "      <td>42</td>\n",
              "    </tr>\n",
              "    <tr>\n",
              "      <th>Buffalo Bills</th>\n",
              "      <td>26</td>\n",
              "      <td>39</td>\n",
              "      <td>1132</td>\n",
              "      <td>16811</td>\n",
              "      <td>2590</td>\n",
              "      <td>45.2</td>\n",
              "      <td>67</td>\n",
              "      <td>36</td>\n",
              "      <td>939</td>\n",
              "      <td>1034</td>\n",
              "      <td>...</td>\n",
              "      <td>22</td>\n",
              "      <td>34.3</td>\n",
              "      <td>271</td>\n",
              "      <td>228</td>\n",
              "      <td>1518</td>\n",
              "      <td>68</td>\n",
              "      <td>325.1</td>\n",
              "      <td>116.5</td>\n",
              "      <td>518.76</td>\n",
              "      <td>42</td>\n",
              "    </tr>\n",
              "    <tr>\n",
              "      <th>Carolina Panthers</th>\n",
              "      <td>150</td>\n",
              "      <td>42</td>\n",
              "      <td>797</td>\n",
              "      <td>11688</td>\n",
              "      <td>2292</td>\n",
              "      <td>35.4</td>\n",
              "      <td>53</td>\n",
              "      <td>21</td>\n",
              "      <td>589</td>\n",
              "      <td>706</td>\n",
              "      <td>...</td>\n",
              "      <td>29</td>\n",
              "      <td>32.0</td>\n",
              "      <td>222</td>\n",
              "      <td>226</td>\n",
              "      <td>2202</td>\n",
              "      <td>60</td>\n",
              "      <td>219.0</td>\n",
              "      <td>66.6</td>\n",
              "      <td>-228.14</td>\n",
              "      <td>42</td>\n",
              "    </tr>\n",
              "  </tbody>\n",
              "</table>\n",
              "<p>5 rows × 28 columns</p>\n",
              "</div>\n",
              "    <div class=\"colab-df-buttons\">\n",
              "\n",
              "  <div class=\"colab-df-container\">\n",
              "    <button class=\"colab-df-convert\" onclick=\"convertToInteractive('df-f7563502-07cb-4999-8edd-e53fe4f6e354')\"\n",
              "            title=\"Convert this dataframe to an interactive table.\"\n",
              "            style=\"display:none;\">\n",
              "\n",
              "  <svg xmlns=\"http://www.w3.org/2000/svg\" height=\"24px\" viewBox=\"0 -960 960 960\">\n",
              "    <path d=\"M120-120v-720h720v720H120Zm60-500h600v-160H180v160Zm220 220h160v-160H400v160Zm0 220h160v-160H400v160ZM180-400h160v-160H180v160Zm440 0h160v-160H620v160ZM180-180h160v-160H180v160Zm440 0h160v-160H620v160Z\"/>\n",
              "  </svg>\n",
              "    </button>\n",
              "\n",
              "  <style>\n",
              "    .colab-df-container {\n",
              "      display:flex;\n",
              "      gap: 12px;\n",
              "    }\n",
              "\n",
              "    .colab-df-convert {\n",
              "      background-color: #E8F0FE;\n",
              "      border: none;\n",
              "      border-radius: 50%;\n",
              "      cursor: pointer;\n",
              "      display: none;\n",
              "      fill: #1967D2;\n",
              "      height: 32px;\n",
              "      padding: 0 0 0 0;\n",
              "      width: 32px;\n",
              "    }\n",
              "\n",
              "    .colab-df-convert:hover {\n",
              "      background-color: #E2EBFA;\n",
              "      box-shadow: 0px 1px 2px rgba(60, 64, 67, 0.3), 0px 1px 3px 1px rgba(60, 64, 67, 0.15);\n",
              "      fill: #174EA6;\n",
              "    }\n",
              "\n",
              "    .colab-df-buttons div {\n",
              "      margin-bottom: 4px;\n",
              "    }\n",
              "\n",
              "    [theme=dark] .colab-df-convert {\n",
              "      background-color: #3B4455;\n",
              "      fill: #D2E3FC;\n",
              "    }\n",
              "\n",
              "    [theme=dark] .colab-df-convert:hover {\n",
              "      background-color: #434B5C;\n",
              "      box-shadow: 0px 1px 3px 1px rgba(0, 0, 0, 0.15);\n",
              "      filter: drop-shadow(0px 1px 2px rgba(0, 0, 0, 0.3));\n",
              "      fill: #FFFFFF;\n",
              "    }\n",
              "  </style>\n",
              "\n",
              "    <script>\n",
              "      const buttonEl =\n",
              "        document.querySelector('#df-f7563502-07cb-4999-8edd-e53fe4f6e354 button.colab-df-convert');\n",
              "      buttonEl.style.display =\n",
              "        google.colab.kernel.accessAllowed ? 'block' : 'none';\n",
              "\n",
              "      async function convertToInteractive(key) {\n",
              "        const element = document.querySelector('#df-f7563502-07cb-4999-8edd-e53fe4f6e354');\n",
              "        const dataTable =\n",
              "          await google.colab.kernel.invokeFunction('convertToInteractive',\n",
              "                                                    [key], {});\n",
              "        if (!dataTable) return;\n",
              "\n",
              "        const docLinkHtml = 'Like what you see? Visit the ' +\n",
              "          '<a target=\"_blank\" href=https://colab.research.google.com/notebooks/data_table.ipynb>data table notebook</a>'\n",
              "          + ' to learn more about interactive tables.';\n",
              "        element.innerHTML = '';\n",
              "        dataTable['output_type'] = 'display_data';\n",
              "        await google.colab.output.renderOutput(dataTable, element);\n",
              "        const docLink = document.createElement('div');\n",
              "        docLink.innerHTML = docLinkHtml;\n",
              "        element.appendChild(docLink);\n",
              "      }\n",
              "    </script>\n",
              "  </div>\n",
              "\n",
              "\n",
              "<div id=\"df-3fd329b5-bbc7-42e1-a70c-68202612e9bb\">\n",
              "  <button class=\"colab-df-quickchart\" onclick=\"quickchart('df-3fd329b5-bbc7-42e1-a70c-68202612e9bb')\"\n",
              "            title=\"Suggest charts\"\n",
              "            style=\"display:none;\">\n",
              "\n",
              "<svg xmlns=\"http://www.w3.org/2000/svg\" height=\"24px\"viewBox=\"0 0 24 24\"\n",
              "     width=\"24px\">\n",
              "    <g>\n",
              "        <path d=\"M19 3H5c-1.1 0-2 .9-2 2v14c0 1.1.9 2 2 2h14c1.1 0 2-.9 2-2V5c0-1.1-.9-2-2-2zM9 17H7v-7h2v7zm4 0h-2V7h2v10zm4 0h-2v-4h2v4z\"/>\n",
              "    </g>\n",
              "</svg>\n",
              "  </button>\n",
              "\n",
              "<style>\n",
              "  .colab-df-quickchart {\n",
              "      --bg-color: #E8F0FE;\n",
              "      --fill-color: #1967D2;\n",
              "      --hover-bg-color: #E2EBFA;\n",
              "      --hover-fill-color: #174EA6;\n",
              "      --disabled-fill-color: #AAA;\n",
              "      --disabled-bg-color: #DDD;\n",
              "  }\n",
              "\n",
              "  [theme=dark] .colab-df-quickchart {\n",
              "      --bg-color: #3B4455;\n",
              "      --fill-color: #D2E3FC;\n",
              "      --hover-bg-color: #434B5C;\n",
              "      --hover-fill-color: #FFFFFF;\n",
              "      --disabled-bg-color: #3B4455;\n",
              "      --disabled-fill-color: #666;\n",
              "  }\n",
              "\n",
              "  .colab-df-quickchart {\n",
              "    background-color: var(--bg-color);\n",
              "    border: none;\n",
              "    border-radius: 50%;\n",
              "    cursor: pointer;\n",
              "    display: none;\n",
              "    fill: var(--fill-color);\n",
              "    height: 32px;\n",
              "    padding: 0;\n",
              "    width: 32px;\n",
              "  }\n",
              "\n",
              "  .colab-df-quickchart:hover {\n",
              "    background-color: var(--hover-bg-color);\n",
              "    box-shadow: 0 1px 2px rgba(60, 64, 67, 0.3), 0 1px 3px 1px rgba(60, 64, 67, 0.15);\n",
              "    fill: var(--button-hover-fill-color);\n",
              "  }\n",
              "\n",
              "  .colab-df-quickchart-complete:disabled,\n",
              "  .colab-df-quickchart-complete:disabled:hover {\n",
              "    background-color: var(--disabled-bg-color);\n",
              "    fill: var(--disabled-fill-color);\n",
              "    box-shadow: none;\n",
              "  }\n",
              "\n",
              "  .colab-df-spinner {\n",
              "    border: 2px solid var(--fill-color);\n",
              "    border-color: transparent;\n",
              "    border-bottom-color: var(--fill-color);\n",
              "    animation:\n",
              "      spin 1s steps(1) infinite;\n",
              "  }\n",
              "\n",
              "  @keyframes spin {\n",
              "    0% {\n",
              "      border-color: transparent;\n",
              "      border-bottom-color: var(--fill-color);\n",
              "      border-left-color: var(--fill-color);\n",
              "    }\n",
              "    20% {\n",
              "      border-color: transparent;\n",
              "      border-left-color: var(--fill-color);\n",
              "      border-top-color: var(--fill-color);\n",
              "    }\n",
              "    30% {\n",
              "      border-color: transparent;\n",
              "      border-left-color: var(--fill-color);\n",
              "      border-top-color: var(--fill-color);\n",
              "      border-right-color: var(--fill-color);\n",
              "    }\n",
              "    40% {\n",
              "      border-color: transparent;\n",
              "      border-right-color: var(--fill-color);\n",
              "      border-top-color: var(--fill-color);\n",
              "    }\n",
              "    60% {\n",
              "      border-color: transparent;\n",
              "      border-right-color: var(--fill-color);\n",
              "    }\n",
              "    80% {\n",
              "      border-color: transparent;\n",
              "      border-right-color: var(--fill-color);\n",
              "      border-bottom-color: var(--fill-color);\n",
              "    }\n",
              "    90% {\n",
              "      border-color: transparent;\n",
              "      border-bottom-color: var(--fill-color);\n",
              "    }\n",
              "  }\n",
              "</style>\n",
              "\n",
              "  <script>\n",
              "    async function quickchart(key) {\n",
              "      const quickchartButtonEl =\n",
              "        document.querySelector('#' + key + ' button');\n",
              "      quickchartButtonEl.disabled = true;  // To prevent multiple clicks.\n",
              "      quickchartButtonEl.classList.add('colab-df-spinner');\n",
              "      try {\n",
              "        const charts = await google.colab.kernel.invokeFunction(\n",
              "            'suggestCharts', [key], {});\n",
              "      } catch (error) {\n",
              "        console.error('Error during call to suggestCharts:', error);\n",
              "      }\n",
              "      quickchartButtonEl.classList.remove('colab-df-spinner');\n",
              "      quickchartButtonEl.classList.add('colab-df-quickchart-complete');\n",
              "    }\n",
              "    (() => {\n",
              "      let quickchartButtonEl =\n",
              "        document.querySelector('#df-3fd329b5-bbc7-42e1-a70c-68202612e9bb button');\n",
              "      quickchartButtonEl.style.display =\n",
              "        google.colab.kernel.accessAllowed ? 'block' : 'none';\n",
              "    })();\n",
              "  </script>\n",
              "</div>\n",
              "    </div>\n",
              "  </div>\n"
            ]
          },
          "metadata": {},
          "execution_count": 33
        }
      ]
    },
    {
      "cell_type": "code",
      "source": [
        "offense_stats.shape\n"
      ],
      "metadata": {
        "colab": {
          "base_uri": "https://localhost:8080/"
        },
        "id": "HHvtlPrl6i-L",
        "outputId": "82ea56f3-d54a-4cc0-ab38-30e24ff318c0"
      },
      "execution_count": 12,
      "outputs": [
        {
          "output_type": "execute_result",
          "data": {
            "text/plain": [
              "(32, 28)"
            ]
          },
          "metadata": {},
          "execution_count": 12
        }
      ]
    },
    {
      "cell_type": "code",
      "source": [
        "offense_stats[\"rank\"].value_counts()"
      ],
      "metadata": {
        "colab": {
          "base_uri": "https://localhost:8080/"
        },
        "id": "RSWnkmwA6u1Z",
        "outputId": "629c7c59-f0a8-4b21-a4c7-1808486d13bf"
      },
      "execution_count": 18,
      "outputs": [
        {
          "output_type": "execute_result",
          "data": {
            "text/plain": [
              "29.5    2\n",
              "25.5    2\n",
              "17.5    2\n",
              "1.0     1\n",
              "16.0    1\n",
              "31.0    1\n",
              "28.0    1\n",
              "27.0    1\n",
              "24.0    1\n",
              "23.0    1\n",
              "22.0    1\n",
              "21.0    1\n",
              "20.0    1\n",
              "19.0    1\n",
              "15.0    1\n",
              "2.0     1\n",
              "14.0    1\n",
              "13.0    1\n",
              "12.0    1\n",
              "11.0    1\n",
              "10.0    1\n",
              "9.0     1\n",
              "8.0     1\n",
              "7.0     1\n",
              "6.0     1\n",
              "5.0     1\n",
              "4.0     1\n",
              "3.0     1\n",
              "32.0    1\n",
              "Name: rank, dtype: int64"
            ]
          },
          "metadata": {},
          "execution_count": 18
        }
      ]
    },
    {
      "cell_type": "code",
      "source": [
        "offense_stats.dtypes"
      ],
      "metadata": {
        "colab": {
          "base_uri": "https://localhost:8080/"
        },
        "id": "msXmENo28knp",
        "outputId": "96864695-ac74-4f53-cbce-37bde04c0864"
      },
      "execution_count": 19,
      "outputs": [
        {
          "output_type": "execute_result",
          "data": {
            "text/plain": [
              "games                           int64\n",
              "points_scored                   int64\n",
              "total_yards                     int64\n",
              "offensive_plays                 int64\n",
              "yards_per_play                float64\n",
              "turnovers_lost                  int64\n",
              "fumbles_lost                    int64\n",
              "1st_downs                       int64\n",
              "passes_completed                int64\n",
              "passes_attempted                int64\n",
              "passing_yards                   int64\n",
              "passing_touchdowns              int64\n",
              "passing_interceptions           int64\n",
              "net_yards_per_pass_attempt    float64\n",
              "passing_1st_downs               int64\n",
              "rushing_attempts                int64\n",
              "rushing_yards                   int64\n",
              "rushing_touchdowns              int64\n",
              "rushing_yards_per_attempt     float64\n",
              "rushing_1st_downs               int64\n",
              "penalties                       int64\n",
              "penalty_yards                   int64\n",
              "1st_down_penalties              int64\n",
              "percentage_scoring_drives     float64\n",
              "percentage_turnover_drives    float64\n",
              "expected_points               float64\n",
              "Week                            int64\n",
              "rank                          float64\n",
              "games_won                       int64\n",
              "dtype: object"
            ]
          },
          "metadata": {},
          "execution_count": 19
        }
      ]
    },
    {
      "cell_type": "code",
      "source": [
        "offense_stats[\"pass_rate\"] = offense_stats[\"passes_attempted\"].astype(\"category\").cat.codes"
      ],
      "metadata": {
        "id": "APN9sdN38tfo"
      },
      "execution_count": 37,
      "outputs": []
    },
    {
      "cell_type": "code",
      "source": [
        "offense_stats[\"run_rate\"] = offense_stats[\"rushing_yards_per_attempt\"].astype(\"category\").cat.codes"
      ],
      "metadata": {
        "id": "9Fg0V0Ky9CfZ"
      },
      "execution_count": 38,
      "outputs": []
    },
    {
      "cell_type": "code",
      "source": [
        "offense_stats"
      ],
      "metadata": {
        "id": "n3cMXVKh9QqP"
      },
      "execution_count": null,
      "outputs": []
    },
    {
      "cell_type": "code",
      "source": [
        "offense_stats[\"efficient_offense\"] = (offense_stats[\"games_won\"] >= 3).astype(\"int\")"
      ],
      "metadata": {
        "id": "AJMhUt1z9kkB"
      },
      "execution_count": 29,
      "outputs": []
    },
    {
      "cell_type": "markdown",
      "source": [
        "# Training/Creating the actual ML Model"
      ],
      "metadata": {
        "id": "VG0OgDAdBnK7"
      }
    },
    {
      "cell_type": "code",
      "source": [
        "from sklearn.ensemble import RandomForestClassifier"
      ],
      "metadata": {
        "id": "1fgMyA7MBsLn"
      },
      "execution_count": 40,
      "outputs": []
    },
    {
      "cell_type": "code",
      "source": [
        "rf = RandomForestClassifier(n_estimators=50, min_samples_split=10, random_state = 1)"
      ],
      "metadata": {
        "id": "yhYm3YcJB7K8"
      },
      "execution_count": 41,
      "outputs": []
    },
    {
      "cell_type": "code",
      "source": [
        "from itertools import combinations\n",
        "from sklearn.metrics import accuracy_score\n",
        "from sklearn.model_selection import train_test_split\n",
        "\n",
        "# Assuming nfl_data is your DataFrame with the necessary columns\n",
        "matchups = list(combinations(offense_stats.index, 2))\n",
        "matchup_data = []\n",
        "\n",
        "for i, j in matchups:\n",
        "    team1 = offense_stats.loc[i]\n",
        "    team2 = offense_stats.loc[j]\n",
        "    feature_diff = {\n",
        "        'games_won_diff': team1['efficient_offense'] - team2['efficient_offense'],\n",
        "        'pass_rate_diff': team1['pass_rate'] - team2['pass_rate'],\n",
        "        'run_rate_diff': team1['run_rate'] - team2['run_rate'],\n",
        "        'winner': 1 if team1['efficient_offense'] > team2['efficient_offense'] else 0\n",
        "    }\n",
        "    matchup_data.append(feature_diff)\n",
        "\n",
        "# Creating DataFrame from matchup data\n",
        "matchup_df = pd.DataFrame(matchup_data)\n",
        "\n",
        "# Splitting into features and target\n",
        "X = matchup_df.drop('winner', axis=1)\n",
        "y = matchup_df['winner']\n",
        "\n",
        "# Train-test split\n",
        "X_train, X_test, y_train, y_test = train_test_split(X, y, test_size=0.2, random_state=1)\n",
        "\n",
        "# Initialize and train RandomForestClassifier\n",
        "rf = RandomForestClassifier(n_estimators=50, min_samples_split=10, random_state=1)\n",
        "rf.fit(X_train, y_train)\n",
        "\n",
        "# Predict and evaluate\n",
        "y_pred = rf.predict(X_test)\n",
        "accuracy = accuracy_score(y_test, y_pred)"
      ],
      "metadata": {
        "id": "1iFj7jJuFz-g"
      },
      "execution_count": 42,
      "outputs": []
    },
    {
      "cell_type": "markdown",
      "source": [
        "# Visualization of ML Model"
      ],
      "metadata": {
        "id": "BHR9irnDGfbS"
      }
    },
    {
      "cell_type": "code",
      "source": [
        "import matplotlib.pyplot as plt\n",
        "\n",
        "feature_importances = rf.feature_importances_\n",
        "features = X_train.columns\n",
        "indices = range(len(feature_importances))\n",
        "\n",
        "plt.figure(figsize=(8, 5))\n",
        "plt.title(\"Feature Importances\")\n",
        "plt.barh(indices, feature_importances, color='b', align='center')\n",
        "plt.yticks(indices, features)\n",
        "plt.xlabel('Relative Importance')\n",
        "plt.show()"
      ],
      "metadata": {
        "colab": {
          "base_uri": "https://localhost:8080/",
          "height": 487
        },
        "id": "5OapAOjoGl5h",
        "outputId": "f02393d4-b4d3-4599-cdaa-0278e840d935"
      },
      "execution_count": 43,
      "outputs": [
        {
          "output_type": "display_data",
          "data": {
            "text/plain": [
              "<Figure size 800x500 with 1 Axes>"
            ],
            "image/png": "[encoded data removed]"
          },
          "metadata": {}
        }
      ]
    },
    {
      "cell_type": "code",
      "source": [
        "from sklearn.metrics import confusion_matrix\n",
        "import seaborn as sns\n",
        "\n",
        "cm = confusion_matrix(y_test, y_pred)\n",
        "\n",
        "plt.figure(figsize=(7, 5))\n",
        "sns.heatmap(cm, annot=True, fmt='d')\n",
        "plt.title('Confusion Matrix')\n",
        "plt.ylabel('Actual')\n",
        "plt.xlabel('Predicted')\n",
        "plt.show()"
      ],
      "metadata": {
        "colab": {
          "base_uri": "https://localhost:8080/",
          "height": 487
        },
        "id": "yNaaCBYVGpng",
        "outputId": "8401be35-7704-4750-e6bd-db389e3f06dd"
      },
      "execution_count": 44,
      "outputs": [
        {
          "output_type": "display_data",
          "data": {
            "text/plain": [
              "<Figure size 700x500 with 2 Axes>"
            ],
            "image/png": "[encoded data removed]"
          },
          "metadata": {}
        }
      ]
    },
    {
      "cell_type": "code",
      "source": [
        "from sklearn.metrics import roc_curve, auc\n",
        "\n",
        "# Calculate the ROC curve and AUC\n",
        "fpr, tpr, thresholds = roc_curve(y_test, rf.predict_proba(X_test)[:, 1])\n",
        "roc_auc = auc(fpr, tpr)\n",
        "\n",
        "plt.figure(figsize=(7, 5))\n",
        "plt.plot(fpr, tpr, color='darkorange', lw=2, label=f'ROC curve (area = {roc_auc:.2f})')\n",
        "plt.plot([0, 1], [0, 1], color='navy', lw=2, linestyle='--')\n",
        "plt.xlabel('False Positive Rate')\n",
        "plt.ylabel('True Positive Rate')\n",
        "plt.title('Receiver Operating Characteristic')\n",
        "plt.legend(loc=\"lower right\")\n",
        "plt.show()"
      ],
      "metadata": {
        "colab": {
          "base_uri": "https://localhost:8080/",
          "height": 487
        },
        "id": "1mU_NeZ-GsNn",
        "outputId": "0c92151a-a4ae-47e3-942a-77b3b3cc392f"
      },
      "execution_count": 45,
      "outputs": [
        {
          "output_type": "display_data",
          "data": {
            "text/plain": [
              "<Figure size 700x500 with 1 Axes>"
            ],
            "image/png": "[encoded data removed]"
          },
          "metadata": {}
        }
      ]
    }
  ]
}